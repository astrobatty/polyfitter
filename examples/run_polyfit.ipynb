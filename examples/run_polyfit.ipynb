{
 "cells": [
  {
   "cell_type": "markdown",
   "metadata": {},
   "source": [
    "<a href=\"https://colab.research.google.com/github/astrobatty/polyfitter/blob/master/examples/run_polyfit.ipynb\" target=\"_parent\"><img src=\"https://colab.research.google.com/assets/colab-badge.svg\" alt=\"Open In Colab\"/></a>"
   ]
  },
  {
   "cell_type": "markdown",
   "metadata": {},
   "source": [
    "#### If you are in Google Colab, first install the package"
   ]
  },
  {
   "cell_type": "code",
   "execution_count": null,
   "metadata": {},
   "outputs": [],
   "source": [
    "!git clone https://github.com/astrobatty/polyfitter+git; cd ./polyfitter; python setup.py install"
   ]
  },
  {
   "cell_type": "markdown",
   "metadata": {},
   "source": [
    "# This example shows how to run Polyfitter interactively"
   ]
  },
  {
   "cell_type": "code",
   "execution_count": 1,
   "metadata": {},
   "outputs": [],
   "source": [
    "from polyfitter import Polyfitter\n",
    "\n",
    "import matplotlib.pyplot as plt\n",
    "import numpy as np"
   ]
  },
  {
   "cell_type": "markdown",
   "metadata": {},
   "source": [
    "## Polynomial chain fit to OGLE-BLG-ECL-040474"
   ]
  },
  {
   "cell_type": "code",
   "execution_count": 2,
   "metadata": {},
   "outputs": [
    {
     "name": "stdout",
     "output_type": "stream",
     "text": [
      "Fitting polyfits...\n",
      "Comparing polyfit models...\n",
      "Fitting polyfits...\n",
      "Comparing polyfit models...\n",
      "Fitting polyfits...\n",
      "Comparing polyfit models...\n"
     ]
    }
   ],
   "source": [
    "# Parameters from OGLE database\n",
    "ID = 'OGLE-BLG-ECL-040474'\n",
    "P=1.8995918\n",
    "t0=7000.90650\n",
    "\n",
    "# Load light curve from OGLE database\n",
    "# This is in magnitude scale\n",
    "path_to_ogle = 'http://ogledb.astrouw.edu.pl/~ogle/OCVS/data/I/'+ID[-2:]+'/'+ID+'.dat'\n",
    "lc = np.loadtxt(path_to_ogle).T\n",
    "\n",
    "# For clarity\n",
    "time = lc[0]\n",
    "mag  = lc[1]\n",
    "err  = lc[2]\n",
    "\n",
    "# Create Polyfitter instance by setting the brightness scale of your data\n",
    "# Set \"mag\" or \"flux\" scale\n",
    "pf = Polyfitter(scale='mag')\n",
    "\n",
    "# Run polynomial chain fitting\n",
    "t0new, phase, polyfit, messages = pf.get_polyfit(time,mag,err,P,t0)\n",
    "\n",
    "# Note: if you want to fit silently set verbosity (e.g. inside a for loop)\n",
    "# t0new, phase, polyfit, messages = pf.get_polyfit(time,mag,err,P,t0,verbose=0)"
   ]
  },
  {
   "cell_type": "markdown",
   "metadata": {},
   "source": [
    "#### Plot phase curve and polyfit"
   ]
  },
  {
   "cell_type": "code",
   "execution_count": 3,
   "metadata": {},
   "outputs": [
    {
     "data": {
      "image/png": "[encoded data removed]",
      "text/plain": [
       "<Figure size 432x288 with 1 Axes>"
      ]
     },
     "metadata": {
      "needs_background": "light"
     },
     "output_type": "display_data"
    }
   ],
   "source": [
    "plt.errorbar((time-t0new)/P%1,mag,err,fmt='k.')\n",
    "plt.errorbar((time-t0new)/P%1-1,mag,err,fmt='k.')\n",
    "plt.plot(phase,polyfit,c='r',zorder=10)\n",
    "plt.plot(phase+1,polyfit,c='r',zorder=10)\n",
    "plt.xlabel('Phase')\n",
    "plt.ylabel('Magnitude')\n",
    "plt.xlim(-0.5,1)\n",
    "plt.gca().invert_yaxis()\n",
    "plt.show()"
   ]
  },
  {
   "cell_type": "markdown",
   "metadata": {},
   "source": [
    "#### Get morphology classification"
   ]
  },
  {
   "cell_type": "code",
   "execution_count": 4,
   "metadata": {},
   "outputs": [
    {
     "name": "stdout",
     "output_type": "stream",
     "text": [
      "Morphology type = 0.4207379453872869\n"
     ]
    }
   ],
   "source": [
    "morp_array = pf.c\n",
    "print('Morphology type =' , morp_array[0] )"
   ]
  },
  {
   "cell_type": "markdown",
   "metadata": {},
   "source": [
    "#### Check original and new epochs"
   ]
  },
  {
   "cell_type": "code",
   "execution_count": 5,
   "metadata": {},
   "outputs": [
    {
     "name": "stdout",
     "output_type": "stream",
     "text": [
      "Original epoch: 7000.9065 -> new epoch: 7000.9065\n"
     ]
    }
   ],
   "source": [
    "print('Original epoch: {} -> new epoch: {}'.format(t0,t0new) )"
   ]
  },
  {
   "cell_type": "markdown",
   "metadata": {},
   "source": [
    "#### Messages that would be printed out by the original polyfit code are stored in a list"
   ]
  },
  {
   "cell_type": "code",
   "execution_count": 6,
   "metadata": {},
   "outputs": [
    {
     "data": {
      "text/plain": [
       "['# Fitting polynomial order: 2',\n",
       " '# Initial set of knots: {-0.480188, -0.026915, 0.023068, 0.468511}',\n",
       " '# Number of iterations for knot search: 4000',\n",
       " '# Step size for knot search: 0.009997',\n",
       " '# ',\n",
       " '# Original chi2: 1.086492e-03',\n",
       " '# Chi2med=0.004729 chi2MAD=0.004509 Threshold=-0.017816',\n",
       " '# Final chi2:    1.086492e-03',\n",
       " '# Phase space partitioning:',\n",
       " '# ',\n",
       " '#   interval  0: [-0.480, -0.027), 114 data points',\n",
       " '#   interval  1: [-0.027,  0.023),  11 data points',\n",
       " '#   interval  2: [ 0.023,  0.469), 125 data points',\n",
       " '#   interval  3: [ 0.469, -0.480),  13 data points',\n",
       " '# ',\n",
       " '# Weighted least-squares solution of the polyfit:',\n",
       " '# ',\n",
       " '#    knot\\t\\t   c[0]\\t\\t   c[1]\\t\\t   c[2]\\t\\t',\n",
       " '# -0.480187616125\\t 16.270573781946\\t 0.251831720218\\t-0.590564369262\\t',\n",
       " '# -0.026915477573\\t 16.263387308844\\t-38.354216649380\\t 767.514532070894\\t',\n",
       " '#  0.023068105259\\t 16.263832639532\\t-0.005979450050\\t 0.003592801489\\t',\n",
       " '#  0.468510753229\\t 16.261882018096\\t 0.169424709128\\t 179.513738159441\\t',\n",
       " '# ',\n",
       " '# Polyfit minimum occurs at: (-0.001929, 15.784228)',\n",
       " '# Polyfit maximum occurs at: (-0.266975, 16.297421)',\n",
       " '# Polyfit amplitude is: 0.513192 (3.149%)']"
      ]
     },
     "execution_count": 6,
     "metadata": {},
     "output_type": "execute_result"
    }
   ],
   "source": [
    "messages"
   ]
  },
  {
   "cell_type": "code",
   "execution_count": null,
   "metadata": {},
   "outputs": [],
   "source": []
  },
  {
   "cell_type": "markdown",
   "metadata": {},
   "source": [
    "## Assuming that you have two (or more) polyfits generated earlier\n",
    "\n",
    "To classify them the fits must have 1000 equidistant points.\n",
    "\n",
    "Then the fits can be converted to a numpy ndarray with shape of (n fits,1000):"
   ]
  },
  {
   "cell_type": "code",
   "execution_count": 7,
   "metadata": {},
   "outputs": [
    {
     "data": {
      "text/plain": [
       "(2, 1000)"
      ]
     },
     "execution_count": 7,
     "metadata": {},
     "output_type": "execute_result"
    }
   ],
   "source": [
    "multiple_polyfits = np.vstack((polyfit,polyfit))\n",
    "\n",
    "multiple_polyfits.shape"
   ]
  },
  {
   "cell_type": "markdown",
   "metadata": {},
   "source": [
    "and the morphology classes will be returned as an array:"
   ]
  },
  {
   "cell_type": "code",
   "execution_count": 8,
   "metadata": {},
   "outputs": [
    {
     "data": {
      "text/plain": [
       "array([0.42073795, 0.42073795])"
      ]
     },
     "execution_count": 8,
     "metadata": {},
     "output_type": "execute_result"
    }
   ],
   "source": [
    "pf.get_c( multiple_polyfits )"
   ]
  },
  {
   "cell_type": "code",
   "execution_count": null,
   "metadata": {},
   "outputs": [],
   "source": []
  },
  {
   "cell_type": "markdown",
   "metadata": {},
   "source": [
    "## Polynomial chain fit to KIC 10417986 from the Kepler catalog"
   ]
  },
  {
   "cell_type": "code",
   "execution_count": 9,
   "metadata": {},
   "outputs": [
    {
     "name": "stdout",
     "output_type": "stream",
     "text": [
      "Fitting polyfits...\n",
      "Comparing polyfit models...\n"
     ]
    }
   ],
   "source": [
    "# Load light curve\n",
    "KIC = '10417986'\n",
    "lc = np.loadtxt('http://keplerebs.villanova.edu/data/?k='+KIC+'.00&cadence=lc&data=data')\n",
    "\n",
    "# Parameters from the Kepler catalog\n",
    "P  = 0.0737309\n",
    "t0 = 55000.027476\n",
    "\n",
    "# To decrease running time\n",
    "# only the first 2000 measurements are used\n",
    "time = lc[:2000,0]\n",
    "flux = lc[:2000,6]\n",
    "err  = lc[:2000,3]\n",
    "\n",
    "# Create Polyfitter instance by setting the brightness scale to flux!\n",
    "pf = Polyfitter(scale='flux')\n",
    "\n",
    "# Run polynomial chain fitting\n",
    "# To prevent the fitter from timing out\n",
    "# the maximum waiting time is set to 10,000 seconds\n",
    "t0new, phase, polyfit, messages = pf.get_polyfit(time,flux,err,P,t0,timeout=10000)"
   ]
  },
  {
   "cell_type": "markdown",
   "metadata": {},
   "source": [
    "#### Plot phase curve and polyfit"
   ]
  },
  {
   "cell_type": "code",
   "execution_count": 10,
   "metadata": {},
   "outputs": [
    {
     "data": {
      "image/png": "[encoded data removed]",
      "text/plain": [
       "<Figure size 432x288 with 1 Axes>"
      ]
     },
     "metadata": {
      "needs_background": "light"
     },
     "output_type": "display_data"
    }
   ],
   "source": [
    "plt.errorbar((time-t0new)/P%1,flux,err,fmt='k.')\n",
    "plt.errorbar((time-t0new)/P%1-1,flux,err,fmt='k.')\n",
    "plt.plot(phase,polyfit,c='r',zorder=10)\n",
    "plt.plot(phase+1,polyfit,c='r',zorder=10)\n",
    "plt.xlabel('Phase')\n",
    "plt.ylabel('Relative flux')\n",
    "plt.xlim(-0.5,1)\n",
    "plt.show()"
   ]
  },
  {
   "cell_type": "markdown",
   "metadata": {},
   "source": [
    "#### Get morphology classification"
   ]
  },
  {
   "cell_type": "code",
   "execution_count": 11,
   "metadata": {},
   "outputs": [
    {
     "name": "stdout",
     "output_type": "stream",
     "text": [
      "Morphology type = 0.9786215313817448\n"
     ]
    }
   ],
   "source": [
    "morp_array = pf.c\n",
    "print('Morphology type =' , morp_array[0] )"
   ]
  },
  {
   "cell_type": "markdown",
   "metadata": {},
   "source": [
    "#### Check original and new epochs"
   ]
  },
  {
   "cell_type": "code",
   "execution_count": 12,
   "metadata": {},
   "outputs": [
    {
     "name": "stdout",
     "output_type": "stream",
     "text": [
      "Original epoch: 55000.027476 -> new epoch: 55000.027476\n"
     ]
    }
   ],
   "source": [
    "print('Original epoch: {} -> new epoch: {}'.format(t0,t0new) )"
   ]
  },
  {
   "cell_type": "markdown",
   "metadata": {},
   "source": [
    "#### Messages that would be printed out by the original polyfit code are stored in a list"
   ]
  },
  {
   "cell_type": "code",
   "execution_count": 13,
   "metadata": {},
   "outputs": [
    {
     "data": {
      "text/plain": [
       "['# Fitting polynomial order: 2',\n",
       " '# Initial set of knots: {-0.400000, -0.100000, 0.100000, 0.400000}',\n",
       " '# Number of iterations for knot search: 4000',\n",
       " '# Step size for knot search: 0.040000',\n",
       " '# ',\n",
       " '# Original chi2: 7.928298e-11',\n",
       " '# Chi2med=0.000000 chi2MAD=0.000000 Threshold=0.000000',\n",
       " '# Final chi2:    7.840777e-11',\n",
       " '# Phase space partitioning:',\n",
       " '# ',\n",
       " '#   interval  0: [-0.382, -0.117), 533 data points',\n",
       " '#   interval  1: [-0.117,  0.122), 476 data points',\n",
       " '#   interval  2: [ 0.122,  0.381), 518 data points',\n",
       " '#   interval  3: [ 0.381, -0.382), 473 data points',\n",
       " '# ',\n",
       " '# Weighted least-squares solution of the polyfit:',\n",
       " '# ',\n",
       " '#    knot\\t\\t   c[0]\\t\\t   c[1]\\t\\t   c[2]\\t\\t',\n",
       " '# -0.381917688046\\t 0.999927405462\\t 0.003602584836\\t-0.013560634668\\t',\n",
       " '# -0.116728590000\\t 0.999929116557\\t-0.003064890826\\t 0.013270729966\\t',\n",
       " '#  0.121979149077\\t 0.999953687967\\t 0.003343467337\\t-0.013110029909\\t',\n",
       " '#  0.380663126167\\t 0.999941300279\\t-0.000058524409\\t 0.012677486790\\t',\n",
       " '# ',\n",
       " '# Polyfit minimum occurs at: (-0.001253, 0.999752)',\n",
       " '# Polyfit maximum occurs at: (0.249495, 1.000167)',\n",
       " '# Polyfit amplitude is: 0.000415 (0.041%)']"
      ]
     },
     "execution_count": 13,
     "metadata": {},
     "output_type": "execute_result"
    }
   ],
   "source": [
    "messages"
   ]
  }
 ],
 "metadata": {
  "kernelspec": {
   "display_name": "polyfit",
   "language": "python",
   "name": "polyfit"
  },
  "language_info": {
   "codemirror_mode": {
    "name": "ipython",
    "version": 3
   },
   "file_extension": ".py",
   "mimetype": "text/x-python",
   "name": "python",
   "nbconvert_exporter": "python",
   "pygments_lexer": "ipython3",
   "version": "3.7.10"
  }
 },
 "nbformat": 4,
 "nbformat_minor": 4
}
